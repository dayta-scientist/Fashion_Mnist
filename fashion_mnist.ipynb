{
  "cells": [
    {
      "cell_type": "code",
      "execution_count": 1,
      "metadata": {
        "id": "ykysDNx8dL5Q"
      },
      "outputs": [],
      "source": [
        "import tensorflow as tf\n",
        "from tensorflow.keras.datasets import fashion_mnist\n",
        "from tensorflow.keras.layers import Conv2D, Dropout, MaxPooling2D, Flatten, Dense\n",
        "import numpy as np\n",
        "import matplotlib.pyplot as plt\n",
        "from tensorflow.keras.preprocessing.image import ImageDataGenerator"
      ]
    },
    {
      "cell_type": "code",
      "execution_count": 2,
      "metadata": {
        "id": "THPa5AyLdXFn",
        "colab": {
          "base_uri": "https://localhost:8080/"
        },
        "outputId": "7c9b8dac-fd7c-44bf-923d-f7a146c4561e"
      },
      "outputs": [
        {
          "output_type": "stream",
          "name": "stdout",
          "text": [
            "Downloading data from https://storage.googleapis.com/tensorflow/tf-keras-datasets/train-labels-idx1-ubyte.gz\n",
            "32768/29515 [=================================] - 0s 0us/step\n",
            "40960/29515 [=========================================] - 0s 0us/step\n",
            "Downloading data from https://storage.googleapis.com/tensorflow/tf-keras-datasets/train-images-idx3-ubyte.gz\n",
            "26427392/26421880 [==============================] - 0s 0us/step\n",
            "26435584/26421880 [==============================] - 0s 0us/step\n",
            "Downloading data from https://storage.googleapis.com/tensorflow/tf-keras-datasets/t10k-labels-idx1-ubyte.gz\n",
            "16384/5148 [===============================================================================================] - 0s 0us/step\n",
            "Downloading data from https://storage.googleapis.com/tensorflow/tf-keras-datasets/t10k-images-idx3-ubyte.gz\n",
            "4423680/4422102 [==============================] - 0s 0us/step\n",
            "4431872/4422102 [==============================] - 0s 0us/step\n"
          ]
        }
      ],
      "source": [
        "(train_images, train_labels), (test_images, test_labels) = fashion_mnist.load_data()\n"
      ]
    },
    {
      "cell_type": "code",
      "execution_count": 3,
      "metadata": {
        "colab": {
          "base_uri": "https://localhost:8080/"
        },
        "id": "zuhuhQXidprv",
        "outputId": "8a8e093b-05b8-4863-9789-eb685c492302"
      },
      "outputs": [
        {
          "output_type": "execute_result",
          "data": {
            "text/plain": [
              "(60000, 28, 28)"
            ]
          },
          "metadata": {},
          "execution_count": 3
        }
      ],
      "source": [
        "train_images.shape"
      ]
    },
    {
      "cell_type": "code",
      "source": [
        "test_images.shape"
      ],
      "metadata": {
        "colab": {
          "base_uri": "https://localhost:8080/"
        },
        "id": "z0KnmVc79aBH",
        "outputId": "b704ee4f-a191-420c-c8a8-e42677d9297f"
      },
      "execution_count": 4,
      "outputs": [
        {
          "output_type": "execute_result",
          "data": {
            "text/plain": [
              "(10000, 28, 28)"
            ]
          },
          "metadata": {},
          "execution_count": 4
        }
      ]
    },
    {
      "cell_type": "code",
      "execution_count": 5,
      "metadata": {
        "id": "Nb8-twF8dt08"
      },
      "outputs": [],
      "source": [
        "num_classes = len(np.unique(train_labels))"
      ]
    },
    {
      "cell_type": "code",
      "execution_count": 6,
      "metadata": {
        "colab": {
          "base_uri": "https://localhost:8080/"
        },
        "id": "I9RwyYgSd6OJ",
        "outputId": "168dfe5c-fc7e-4421-eb95-322eb9738c69"
      },
      "outputs": [
        {
          "output_type": "execute_result",
          "data": {
            "text/plain": [
              "(28, 28)"
            ]
          },
          "metadata": {},
          "execution_count": 6
        }
      ],
      "source": [
        "#x_train.shape[1:]\n",
        "train_images.shape[1:]"
      ]
    },
    {
      "cell_type": "code",
      "execution_count": 7,
      "metadata": {
        "colab": {
          "base_uri": "https://localhost:8080/"
        },
        "id": "S4Adi_4MFVXn",
        "outputId": "f4451c44-a42d-4c33-d17e-dd42121d3aa3"
      },
      "outputs": [
        {
          "output_type": "execute_result",
          "data": {
            "text/plain": [
              "()"
            ]
          },
          "metadata": {},
          "execution_count": 7
        }
      ],
      "source": [
        "train_labels.shape[1:]"
      ]
    },
    {
      "cell_type": "code",
      "execution_count": 8,
      "metadata": {
        "colab": {
          "base_uri": "https://localhost:8080/",
          "height": 283
        },
        "id": "GYtJ4smdFjBt",
        "outputId": "7a9c8b74-1710-471e-b695-cd63717faf25"
      },
      "outputs": [
        {
          "output_type": "execute_result",
          "data": {
            "text/plain": [
              "<matplotlib.image.AxesImage at 0x7ff1b58cbe10>"
            ]
          },
          "metadata": {},
          "execution_count": 8
        },
        {
          "output_type": "display_data",
          "data": {
            "text/plain": [
              "<Figure size 432x288 with 1 Axes>"
            ],
            "image/png": "[encoded data removed]"
          },
          "metadata": {
            "needs_background": "light"
          }
        }
      ],
      "source": [
        "plt.figure()\n",
        "plt.imshow(train_images[100])"
      ]
    },
    {
      "cell_type": "code",
      "execution_count": 18,
      "metadata": {
        "id": "9BTXJAR4OltK"
      },
      "outputs": [],
      "source": [
        "train_images_n = train_images / 255.0\n",
        "test_images_n = test_images / 255.0"
      ]
    },
    {
      "cell_type": "code",
      "execution_count": 19,
      "metadata": {
        "id": "HdULxQYuO6mV"
      },
      "outputs": [],
      "source": [
        "class_names = ['T-shirt/top', 'Trouser', 'Pullover', 'Dress', 'Coat', 'Sandal', 'Shirt', 'Sneaker', 'Bag', 'Ankle boot']"
      ]
    },
    {
      "cell_type": "code",
      "execution_count": 20,
      "metadata": {
        "colab": {
          "base_uri": "https://localhost:8080/",
          "height": 589
        },
        "id": "914d7IgDOp1C",
        "outputId": "d8d1d2f5-419c-4b9f-e3cd-9af084a10994"
      },
      "outputs": [
        {
          "output_type": "display_data",
          "data": {
            "text/plain": [
              "<Figure size 720x720 with 25 Axes>"
            ],
            "image/png": "[encoded data removed]"
          },
          "metadata": {}
        }
      ],
      "source": [
        "%matplotlib inline\n",
        "\n",
        "plt.figure(figsize = (10, 10))\n",
        "for i in range(25):\n",
        "  plt.subplot(5, 5, i + 1)\n",
        "  plt.xticks([])\n",
        "  plt.yticks([])\n",
        "  plt.grid('off')\n",
        "  plt.imshow(train_images[i], cmap = plt.cm.binary)\n",
        "  plt.xlabel(class_names[train_labels[i]])"
      ]
    },
    {
      "cell_type": "markdown",
      "source": [
        "### Creation of the Base Model"
      ],
      "metadata": {
        "id": "-fc13zTMX0kT"
      }
    },
    {
      "cell_type": "code",
      "execution_count": 21,
      "metadata": {
        "id": "wS3NwpCoO74P"
      },
      "outputs": [],
      "source": [
        "model_base = tf.keras.models.Sequential([\n",
        "              tf.keras.layers.Flatten(input_shape= (28, 28)),\n",
        "              tf.keras.layers.Dense(256, activation = \"relu\"),\n",
        "              tf.keras.layers.Dense(128, activation = \"relu\"),\n",
        "              tf.keras.layers.Dense(len(class_names), activation = \"softmax\")\n",
        "])"
      ]
    },
    {
      "cell_type": "code",
      "execution_count": 22,
      "metadata": {
        "id": "E4WYzTMec3aj"
      },
      "outputs": [],
      "source": [
        "model_base.compile(optimizer='adam',\n",
        "              loss='sparse_categorical_crossentropy',\n",
        "              metrics=['accuracy'])"
      ]
    },
    {
      "cell_type": "code",
      "execution_count": 23,
      "metadata": {
        "colab": {
          "base_uri": "https://localhost:8080/"
        },
        "id": "IlZKr7g7dJB2",
        "outputId": "47015b94-ba30-4986-96f2-07243c473607"
      },
      "outputs": [
        {
          "output_type": "stream",
          "name": "stdout",
          "text": [
            "Epoch 1/20\n",
            "1875/1875 [==============================] - 7s 2ms/step - loss: 0.7884 - accuracy: 0.7139\n",
            "Epoch 2/20\n",
            "1875/1875 [==============================] - 4s 2ms/step - loss: 0.5346 - accuracy: 0.8066\n",
            "Epoch 3/20\n",
            "1875/1875 [==============================] - 4s 2ms/step - loss: 0.4716 - accuracy: 0.8311\n",
            "Epoch 4/20\n",
            "1875/1875 [==============================] - 4s 2ms/step - loss: 0.4342 - accuracy: 0.8441\n",
            "Epoch 5/20\n",
            "1875/1875 [==============================] - 4s 2ms/step - loss: 0.4099 - accuracy: 0.8514\n",
            "Epoch 6/20\n",
            "1875/1875 [==============================] - 4s 2ms/step - loss: 0.3898 - accuracy: 0.8584\n",
            "Epoch 7/20\n",
            "1875/1875 [==============================] - 4s 2ms/step - loss: 0.3748 - accuracy: 0.8645\n",
            "Epoch 8/20\n",
            "1875/1875 [==============================] - 4s 2ms/step - loss: 0.3623 - accuracy: 0.8680\n",
            "Epoch 9/20\n",
            "1875/1875 [==============================] - 4s 2ms/step - loss: 0.3498 - accuracy: 0.8734\n",
            "Epoch 10/20\n",
            "1875/1875 [==============================] - 4s 2ms/step - loss: 0.3408 - accuracy: 0.8763\n",
            "Epoch 11/20\n",
            "1875/1875 [==============================] - 5s 3ms/step - loss: 0.3304 - accuracy: 0.8800\n",
            "Epoch 12/20\n",
            "1875/1875 [==============================] - 4s 2ms/step - loss: 0.3216 - accuracy: 0.8824\n",
            "Epoch 13/20\n",
            "1875/1875 [==============================] - 5s 3ms/step - loss: 0.3127 - accuracy: 0.8863\n",
            "Epoch 14/20\n",
            "1875/1875 [==============================] - 4s 2ms/step - loss: 0.3074 - accuracy: 0.8871\n",
            "Epoch 15/20\n",
            "1875/1875 [==============================] - 4s 2ms/step - loss: 0.2996 - accuracy: 0.8898\n",
            "Epoch 16/20\n",
            "1875/1875 [==============================] - 4s 2ms/step - loss: 0.2924 - accuracy: 0.8925\n",
            "Epoch 17/20\n",
            "1875/1875 [==============================] - 4s 2ms/step - loss: 0.2869 - accuracy: 0.8948\n",
            "Epoch 18/20\n",
            "1875/1875 [==============================] - 4s 2ms/step - loss: 0.2801 - accuracy: 0.8967\n",
            "Epoch 19/20\n",
            "1875/1875 [==============================] - 4s 2ms/step - loss: 0.2752 - accuracy: 0.8982\n",
            "Epoch 20/20\n",
            "1875/1875 [==============================] - 4s 2ms/step - loss: 0.2703 - accuracy: 0.9001\n"
          ]
        }
      ],
      "source": [
        "history = model_base.fit(\n",
        "                        train_images_n,\n",
        "                        train_labels,\n",
        "                        epochs= 20, \n",
        ")"
      ]
    },
    {
      "cell_type": "markdown",
      "source": [
        "### Base Model Testing"
      ],
      "metadata": {
        "id": "dchWluazYMJf"
      }
    },
    {
      "cell_type": "code",
      "execution_count": 24,
      "metadata": {
        "colab": {
          "base_uri": "https://localhost:8080/"
        },
        "id": "sg93xyxAc3No",
        "outputId": "3b2982a9-41d4-464a-bd63-27f0675bc630"
      },
      "outputs": [
        {
          "output_type": "stream",
          "name": "stdout",
          "text": [
            "313/313 [==============================] - 1s 2ms/step - loss: 72.3732 - accuracy: 0.7617\n",
            "Accuracy  0.7616999745368958\n"
          ]
        }
      ],
      "source": [
        "test_loss, test_acc = model_base.evaluate(test_images, test_labels)\n",
        "print('Accuracy ', test_acc)"
      ]
    },
    {
      "cell_type": "code",
      "execution_count": 25,
      "metadata": {
        "id": "yv_-YubRnR4w"
      },
      "outputs": [],
      "source": [
        "predictions = model_base.predict(test_images)"
      ]
    },
    {
      "cell_type": "code",
      "execution_count": 26,
      "metadata": {
        "colab": {
          "base_uri": "https://localhost:8080/",
          "height": 589
        },
        "id": "WExGPB6inSYI",
        "outputId": "db96b16d-1862-4bc8-f7bb-cf31b2b8e705"
      },
      "outputs": [
        {
          "output_type": "display_data",
          "data": {
            "text/plain": [
              "<Figure size 720x720 with 25 Axes>"
            ],
            "image/png": "[encoded data removed]"
          },
          "metadata": {}
        }
      ],
      "source": [
        "plt.figure(figsize = (10, 10))\n",
        "for i in range(25):\n",
        "  plt.subplot(5, 5, i + 1)\n",
        "  plt.xticks([])\n",
        "  plt.yticks([])\n",
        "  plt.grid('off')\n",
        "  plt.imshow(test_images[i], cmap = plt.cm.binary)\n",
        "  predicted_label = np.argmax(predictions[i])\n",
        "  true_label = test_labels[i]\n",
        "  if predicted_label == true_label:\n",
        "    color = 'blue'\n",
        "  else: \n",
        "    color = 'red'\n",
        "    \n",
        "  plt.xlabel('{} ({})'.format(class_names[predicted_label], class_names[true_label]), color = color)"
      ]
    },
    {
      "cell_type": "code",
      "execution_count": 27,
      "metadata": {
        "colab": {
          "base_uri": "https://localhost:8080/"
        },
        "id": "RWr7ZwfwFODZ",
        "outputId": "704d8cd9-4190-459a-f6d4-f3c884cfa0a3"
      },
      "outputs": [
        {
          "output_type": "stream",
          "name": "stdout",
          "text": [
            "train_images shape (60000, 28, 28)\n",
            "train; 60000\n",
            "val; 12000\n",
            "test; 10000\n"
          ]
        }
      ],
      "source": [
        "(train_images_reg, train_images_reg_valid) = train_images[12000:], train_images[:12000] \n",
        "(train_labels_reg, train_labels_reg_valid) = train_labels[12000:], train_labels[:12000] \n",
        "\n",
        "print(\"train_images shape\", train_images.shape)\n",
        "\n",
        "print(\"train;\", train_images.shape[0])\n",
        "print(\"val;\", train_images_reg_valid.shape[0])\n",
        "print(\"test;\", test_images.shape[0])"
      ]
    },
    {
      "cell_type": "code",
      "execution_count": 28,
      "metadata": {
        "id": "Y2KioExSFYgp"
      },
      "outputs": [],
      "source": [
        "from tensorflow.keras import regularizers"
      ]
    },
    {
      "cell_type": "markdown",
      "source": [
        "### Model with regularizers"
      ],
      "metadata": {
        "id": "Pe22BJzFXWRn"
      }
    },
    {
      "cell_type": "code",
      "execution_count": 29,
      "metadata": {
        "colab": {
          "base_uri": "https://localhost:8080/"
        },
        "id": "oY7dUIrUFbqo",
        "outputId": "a0152b4f-a2fa-4b87-a1ae-1296e63eeee9"
      },
      "outputs": [
        {
          "output_type": "stream",
          "name": "stdout",
          "text": [
            "Model: \"sequential_3\"\n",
            "_________________________________________________________________\n",
            " Layer (type)                Output Shape              Param #   \n",
            "=================================================================\n",
            " flatten_3 (Flatten)         (None, 784)               0         \n",
            "                                                                 \n",
            " dense_9 (Dense)             (None, 256)               200960    \n",
            "                                                                 \n",
            " dropout (Dropout)           (None, 256)               0         \n",
            "                                                                 \n",
            " dense_10 (Dense)            (None, 128)               32896     \n",
            "                                                                 \n",
            " dropout_1 (Dropout)         (None, 128)               0         \n",
            "                                                                 \n",
            " dense_11 (Dense)            (None, 10)                1290      \n",
            "                                                                 \n",
            "=================================================================\n",
            "Total params: 235,146\n",
            "Trainable params: 235,146\n",
            "Non-trainable params: 0\n",
            "_________________________________________________________________\n"
          ]
        }
      ],
      "source": [
        "model_optimizer = tf.keras.models.Sequential([\n",
        "              tf.keras.layers.Flatten(input_shape= (28, 28, 1)),\n",
        "              tf.keras.layers.Dense(256, kernel_regularizer = regularizers.l2(1e-5), activation = \"relu\"),\n",
        "              tf.keras.layers.Dropout(0.2),\n",
        "              tf.keras.layers.Dense(128, kernel_regularizer= regularizers.l2(1e-5),activation = \"relu\"),\n",
        "              tf.keras.layers.Dropout(0.2),\n",
        "              tf.keras.layers.Dense(len(class_names), activation = \"softmax\")\n",
        "])\n",
        "\n",
        "model_optimizer.summary()"
      ]
    },
    {
      "cell_type": "code",
      "execution_count": 30,
      "metadata": {
        "colab": {
          "base_uri": "https://localhost:8080/"
        },
        "id": "0Ye8-tZeFkbU",
        "outputId": "533d359c-1121-4821-a702-091094fce171"
      },
      "outputs": [
        {
          "output_type": "stream",
          "name": "stdout",
          "text": [
            "Epoch 1/20\n",
            "1500/1500 [==============================] - 4s 2ms/step - loss: 0.5714 - accuracy: 0.7966\n",
            "Epoch 2/20\n",
            "1500/1500 [==============================] - 4s 2ms/step - loss: 0.4288 - accuracy: 0.8470\n",
            "Epoch 3/20\n",
            "1500/1500 [==============================] - 4s 2ms/step - loss: 0.3967 - accuracy: 0.8565\n",
            "Epoch 4/20\n",
            "1500/1500 [==============================] - 4s 3ms/step - loss: 0.3757 - accuracy: 0.8670\n",
            "Epoch 5/20\n",
            "1500/1500 [==============================] - 4s 2ms/step - loss: 0.3632 - accuracy: 0.8724\n",
            "Epoch 6/20\n",
            "1500/1500 [==============================] - 4s 3ms/step - loss: 0.3511 - accuracy: 0.8745\n",
            "Epoch 7/20\n",
            "1500/1500 [==============================] - 4s 3ms/step - loss: 0.3436 - accuracy: 0.8790\n",
            "Epoch 8/20\n",
            "1500/1500 [==============================] - 4s 3ms/step - loss: 0.3347 - accuracy: 0.8813\n",
            "Epoch 9/20\n",
            "1500/1500 [==============================] - 4s 2ms/step - loss: 0.3281 - accuracy: 0.8857\n",
            "Epoch 10/20\n",
            "1500/1500 [==============================] - 4s 2ms/step - loss: 0.3229 - accuracy: 0.8863\n",
            "Epoch 11/20\n",
            "1500/1500 [==============================] - 4s 2ms/step - loss: 0.3213 - accuracy: 0.8879\n",
            "Epoch 12/20\n",
            "1500/1500 [==============================] - 4s 2ms/step - loss: 0.3113 - accuracy: 0.8927\n",
            "Epoch 13/20\n",
            "1500/1500 [==============================] - 4s 2ms/step - loss: 0.3080 - accuracy: 0.8929\n",
            "Epoch 14/20\n",
            "1500/1500 [==============================] - 4s 2ms/step - loss: 0.3022 - accuracy: 0.8948\n",
            "Epoch 15/20\n",
            "1500/1500 [==============================] - 4s 2ms/step - loss: 0.2999 - accuracy: 0.8964\n",
            "Epoch 16/20\n",
            "1500/1500 [==============================] - 4s 2ms/step - loss: 0.2995 - accuracy: 0.8972\n",
            "Epoch 17/20\n",
            "1500/1500 [==============================] - 4s 2ms/step - loss: 0.2957 - accuracy: 0.8976\n",
            "Epoch 18/20\n",
            "1500/1500 [==============================] - 4s 2ms/step - loss: 0.2919 - accuracy: 0.9017\n",
            "Epoch 19/20\n",
            "1500/1500 [==============================] - 4s 2ms/step - loss: 0.2903 - accuracy: 0.9013\n",
            "Epoch 20/20\n",
            "1500/1500 [==============================] - 4s 3ms/step - loss: 0.2895 - accuracy: 0.9034\n"
          ]
        }
      ],
      "source": [
        "model_optimizer.compile(optimizer= \"adam\", \n",
        "                        loss = \"sparse_categorical_crossentropy\", \n",
        "                        metrics = [\"accuracy\"])\n",
        "\n",
        "history_optimizer = model_optimizer.fit(\n",
        "                                        train_images_reg,\n",
        "                                        train_labels_reg,\n",
        "                                        epochs = 20,\n",
        "                                        \n",
        "                                    )\n"
      ]
    },
    {
      "cell_type": "markdown",
      "source": [
        "### Model testing"
      ],
      "metadata": {
        "id": "O021vTJsXp7Q"
      }
    },
    {
      "cell_type": "code",
      "execution_count": 31,
      "metadata": {
        "colab": {
          "base_uri": "https://localhost:8080/"
        },
        "id": "VhH_CjV7H4q8",
        "outputId": "e0610586-3333-4885-e5a1-f4fed50b64c3"
      },
      "outputs": [
        {
          "output_type": "stream",
          "name": "stdout",
          "text": [
            "313/313 [==============================] - 1s 2ms/step - loss: 72.3732 - accuracy: 0.7617\n",
            "Accuracy  0.7616999745368958\n"
          ]
        }
      ],
      "source": [
        "test_loss, test_acc = model_base.evaluate(test_images, test_labels)\n",
        "print('Accuracy ', test_acc)"
      ]
    },
    {
      "cell_type": "markdown",
      "metadata": {
        "id": "q85ljN6gyxcB"
      },
      "source": [
        "## Data Generators\n",
        "\n",
        "Let's set up data generators that will read images in our source folders, convert them to `float32` tensors, and feed them (with their tags) to our network. We will have one generator for the training images and another one for the validation images. Our generators will produce batches of 28x28 size images and their labels."
      ]
    },
    {
      "cell_type": "code",
      "execution_count": 32,
      "metadata": {
        "id": "J9EYxvA55Wgu"
      },
      "outputs": [],
      "source": [
        "train_images = train_images.astype('float32') / 255\n",
        "test_images = test_images.astype('float32') / 255\n",
        "\n",
        "train_images = train_images.reshape(train_images.shape[0], 28, 28, 1)\n",
        "test_images = test_images.reshape(test_images.shape[0], 28, 28, 1)\n",
        "\n",
        "train_labels = tf.keras.utils.to_categorical(train_labels, 10)\n",
        "test_labels = tf.keras.utils.to_categorical(test_labels, 10)\n"
      ]
    },
    {
      "cell_type": "code",
      "execution_count": 33,
      "metadata": {
        "colab": {
          "base_uri": "https://localhost:8080/"
        },
        "id": "jzaDYiBEE64z",
        "outputId": "9a76f6e0-a5c2-4e5c-a14d-b2033fea95d8"
      },
      "outputs": [
        {
          "output_type": "execute_result",
          "data": {
            "text/plain": [
              "(60000, 28, 28, 1)"
            ]
          },
          "metadata": {},
          "execution_count": 33
        }
      ],
      "source": [
        "train_images.shape"
      ]
    },
    {
      "cell_type": "code",
      "execution_count": null,
      "metadata": {
        "id": "A_7T5QXNFIvF"
      },
      "outputs": [],
      "source": [
        ""
      ]
    },
    {
      "cell_type": "markdown",
      "metadata": {
        "id": "21KyTDb-3MRh"
      },
      "source": [
        "### Creation of the Convolutional model"
      ]
    },
    {
      "cell_type": "code",
      "execution_count": 34,
      "metadata": {
        "colab": {
          "base_uri": "https://localhost:8080/"
        },
        "id": "ZWo1KSjl3L4S",
        "outputId": "dd2a960b-3ecf-4b22-dd20-a4a8ab2f688c"
      },
      "outputs": [
        {
          "output_type": "stream",
          "name": "stdout",
          "text": [
            "Model: \"sequential_4\"\n",
            "_________________________________________________________________\n",
            " Layer (type)                Output Shape              Param #   \n",
            "=================================================================\n",
            " conv2d (Conv2D)             (None, 28, 28, 64)        320       \n",
            "                                                                 \n",
            " max_pooling2d (MaxPooling2D  (None, 14, 14, 64)       0         \n",
            " )                                                               \n",
            "                                                                 \n",
            " dropout_2 (Dropout)         (None, 14, 14, 64)        0         \n",
            "                                                                 \n",
            " conv2d_1 (Conv2D)           (None, 14, 14, 32)        8224      \n",
            "                                                                 \n",
            " max_pooling2d_1 (MaxPooling  (None, 7, 7, 32)         0         \n",
            " 2D)                                                             \n",
            "                                                                 \n",
            " dropout_3 (Dropout)         (None, 7, 7, 32)          0         \n",
            "                                                                 \n",
            " flatten_4 (Flatten)         (None, 1568)              0         \n",
            "                                                                 \n",
            " dense_12 (Dense)            (None, 256)               401664    \n",
            "                                                                 \n",
            " dropout_4 (Dropout)         (None, 256)               0         \n",
            "                                                                 \n",
            " dense_13 (Dense)            (None, 10)                2570      \n",
            "                                                                 \n",
            "=================================================================\n",
            "Total params: 412,778\n",
            "Trainable params: 412,778\n",
            "Non-trainable params: 0\n",
            "_________________________________________________________________\n"
          ]
        }
      ],
      "source": [
        "model = tf.keras.Sequential()\n",
        "# Must define the input shape in the first layer of the neural network\n",
        "model.add(Conv2D(filters=64, kernel_size=2, padding='same', activation='relu', input_shape=(28,28,1))) \n",
        "model.add(MaxPooling2D(pool_size=2))\n",
        "model.add(Dropout(0.3))\n",
        "model.add(Conv2D(filters=32, kernel_size=2, padding='same', activation='relu'))\n",
        "model.add(MaxPooling2D(pool_size=2))\n",
        "model.add(Dropout(0.3))\n",
        "model.add(Flatten())\n",
        "model.add(Dense(256, activation='relu'))\n",
        "model.add(Dropout(0.5))\n",
        "model.add(Dense(10, activation='softmax'))\n",
        "# Take a look at the model summary\n",
        "model.summary()"
      ]
    },
    {
      "cell_type": "code",
      "execution_count": 35,
      "metadata": {
        "id": "PsrLSqlzKfjB"
      },
      "outputs": [],
      "source": [
        "model.compile(loss='categorical_crossentropy',\n",
        "             optimizer='adam',\n",
        "             metrics=['accuracy'])"
      ]
    },
    {
      "cell_type": "code",
      "execution_count": 36,
      "metadata": {
        "colab": {
          "base_uri": "https://localhost:8080/"
        },
        "id": "mtizMghpK_c6",
        "outputId": "dbdab7e3-84fc-433e-bf9d-52dcea9464be"
      },
      "outputs": [
        {
          "output_type": "stream",
          "name": "stdout",
          "text": [
            "Epoch 1/20\n",
            "938/938 [==============================] - 13s 4ms/step - loss: 1.2433 - accuracy: 0.5251\n",
            "Epoch 2/20\n",
            "938/938 [==============================] - 5s 5ms/step - loss: 0.7627 - accuracy: 0.7066\n",
            "Epoch 3/20\n",
            "938/938 [==============================] - 4s 4ms/step - loss: 0.7145 - accuracy: 0.7262\n",
            "Epoch 4/20\n",
            "938/938 [==============================] - 4s 4ms/step - loss: 0.6866 - accuracy: 0.7369\n",
            "Epoch 5/20\n",
            "938/938 [==============================] - 4s 4ms/step - loss: 0.6656 - accuracy: 0.7455\n",
            "Epoch 6/20\n",
            "938/938 [==============================] - 4s 4ms/step - loss: 0.6468 - accuracy: 0.7543\n",
            "Epoch 7/20\n",
            "938/938 [==============================] - 4s 4ms/step - loss: 0.6342 - accuracy: 0.7592\n",
            "Epoch 8/20\n",
            "938/938 [==============================] - 4s 4ms/step - loss: 0.6226 - accuracy: 0.7647\n",
            "Epoch 9/20\n",
            "938/938 [==============================] - 4s 4ms/step - loss: 0.6107 - accuracy: 0.7696\n",
            "Epoch 10/20\n",
            "938/938 [==============================] - 4s 4ms/step - loss: 0.5984 - accuracy: 0.7727\n",
            "Epoch 11/20\n",
            "938/938 [==============================] - 4s 4ms/step - loss: 0.5880 - accuracy: 0.7771\n",
            "Epoch 12/20\n",
            "938/938 [==============================] - 4s 4ms/step - loss: 0.5827 - accuracy: 0.7779\n",
            "Epoch 13/20\n",
            "938/938 [==============================] - 4s 4ms/step - loss: 0.5782 - accuracy: 0.7819\n",
            "Epoch 14/20\n",
            "938/938 [==============================] - 4s 4ms/step - loss: 0.5696 - accuracy: 0.7862\n",
            "Epoch 15/20\n",
            "938/938 [==============================] - 4s 4ms/step - loss: 0.5611 - accuracy: 0.7897\n",
            "Epoch 16/20\n",
            "938/938 [==============================] - 4s 4ms/step - loss: 0.5582 - accuracy: 0.7900\n",
            "Epoch 17/20\n",
            "938/938 [==============================] - 4s 4ms/step - loss: 0.5478 - accuracy: 0.7930\n",
            "Epoch 18/20\n",
            "938/938 [==============================] - 4s 4ms/step - loss: 0.5445 - accuracy: 0.7934\n",
            "Epoch 19/20\n",
            "938/938 [==============================] - 4s 4ms/step - loss: 0.5387 - accuracy: 0.7973\n",
            "Epoch 20/20\n",
            "938/938 [==============================] - 4s 4ms/step - loss: 0.5353 - accuracy: 0.7998\n"
          ]
        },
        {
          "output_type": "execute_result",
          "data": {
            "text/plain": [
              "<keras.callbacks.History at 0x7ff122248450>"
            ]
          },
          "metadata": {},
          "execution_count": 36
        }
      ],
      "source": [
        "model.fit(train_images,\n",
        "         train_labels,\n",
        "         batch_size=64,\n",
        "         epochs=20)"
      ]
    },
    {
      "cell_type": "code",
      "execution_count": 37,
      "metadata": {
        "colab": {
          "base_uri": "https://localhost:8080/"
        },
        "id": "h4nUnp-TK_T9",
        "outputId": "69955444-7751-45a6-a392-fc8ebc1b8868"
      },
      "outputs": [
        {
          "output_type": "execute_result",
          "data": {
            "text/plain": [
              "[0.4546063542366028, 0.8319000005722046]"
            ]
          },
          "metadata": {},
          "execution_count": 37
        }
      ],
      "source": [
        "score = model.evaluate(test_images, test_labels, verbose=0)\n",
        "score"
      ]
    },
    {
      "cell_type": "markdown",
      "metadata": {
        "id": "OkwdrlFS4xUn"
      },
      "source": [
        "### Callbacks"
      ]
    },
    {
      "cell_type": "code",
      "execution_count": 38,
      "metadata": {
        "id": "1szOj7NYK_Qk"
      },
      "outputs": [],
      "source": [
        "from tensorflow.keras.callbacks import Callback\n",
        "\n",
        "class TrainingCallback(Callback):\n",
        "  def on_epoch_end(self, epoch, logs = {}):\n",
        "    if logs.get(\"accuracy\") > 0.95:\n",
        "      print(\"Our model reach to 95%\")\n",
        "      self.model.stop_training = True\n"
      ]
    },
    {
      "cell_type": "code",
      "execution_count": 39,
      "metadata": {
        "colab": {
          "base_uri": "https://localhost:8080/"
        },
        "id": "ZnEse3bNK--W",
        "outputId": "b09960dd-67a5-436c-8286-6bbb117caad4"
      },
      "outputs": [
        {
          "output_type": "stream",
          "name": "stdout",
          "text": [
            "Epoch 1/20\n",
            "1875/1875 [==============================] - 8s 4ms/step - loss: 0.5424 - accuracy: 0.7972\n",
            "Epoch 2/20\n",
            "1875/1875 [==============================] - 7s 4ms/step - loss: 0.5337 - accuracy: 0.7995\n",
            "Epoch 3/20\n",
            "1875/1875 [==============================] - 7s 4ms/step - loss: 0.5224 - accuracy: 0.8039\n",
            "Epoch 4/20\n",
            "1875/1875 [==============================] - 7s 4ms/step - loss: 0.5186 - accuracy: 0.8054\n",
            "Epoch 5/20\n",
            "1875/1875 [==============================] - 7s 4ms/step - loss: 0.5158 - accuracy: 0.8058\n",
            "Epoch 6/20\n",
            "1875/1875 [==============================] - 7s 4ms/step - loss: 0.5028 - accuracy: 0.8118\n",
            "Epoch 7/20\n",
            "1875/1875 [==============================] - 9s 5ms/step - loss: 0.4998 - accuracy: 0.8129\n",
            "Epoch 8/20\n",
            "1875/1875 [==============================] - 7s 4ms/step - loss: 0.4951 - accuracy: 0.8160\n",
            "Epoch 9/20\n",
            "1875/1875 [==============================] - 7s 4ms/step - loss: 0.4927 - accuracy: 0.8159\n",
            "Epoch 10/20\n",
            "1875/1875 [==============================] - 7s 4ms/step - loss: 0.4894 - accuracy: 0.8180\n",
            "Epoch 11/20\n",
            "1875/1875 [==============================] - 8s 4ms/step - loss: 0.4880 - accuracy: 0.8181\n",
            "Epoch 12/20\n",
            "1875/1875 [==============================] - 7s 4ms/step - loss: 0.4811 - accuracy: 0.8207\n",
            "Epoch 13/20\n",
            "1875/1875 [==============================] - 7s 4ms/step - loss: 0.4753 - accuracy: 0.8223\n",
            "Epoch 14/20\n",
            "1875/1875 [==============================] - 7s 4ms/step - loss: 0.4788 - accuracy: 0.8216\n",
            "Epoch 15/20\n",
            "1875/1875 [==============================] - 7s 4ms/step - loss: 0.4725 - accuracy: 0.8220\n",
            "Epoch 16/20\n",
            "1875/1875 [==============================] - 7s 4ms/step - loss: 0.4719 - accuracy: 0.8227\n",
            "Epoch 17/20\n",
            "1875/1875 [==============================] - 7s 4ms/step - loss: 0.4669 - accuracy: 0.8263\n",
            "Epoch 18/20\n",
            "1875/1875 [==============================] - 7s 4ms/step - loss: 0.4639 - accuracy: 0.8259\n",
            "Epoch 19/20\n",
            "1875/1875 [==============================] - 7s 4ms/step - loss: 0.4635 - accuracy: 0.8260\n",
            "Epoch 20/20\n",
            "1875/1875 [==============================] - 7s 4ms/step - loss: 0.4644 - accuracy: 0.8271\n"
          ]
        }
      ],
      "source": [
        "callback = TrainingCallback()\n",
        "\n",
        "history_callback = model.fit(\n",
        "    train_images,\n",
        "    train_labels,\n",
        "    epochs = 20,\n",
        "    callbacks = [callback]\n",
        "     \n",
        ")"
      ]
    },
    {
      "cell_type": "code",
      "source": [
        "def get_model():\n",
        "  model = tf.keras.models.Sequential([\n",
        "              tf.keras.layers.Conv2D(75, (3,3), activation = \"relu\", input_shape= (28, 28, 1)),\n",
        "              tf.keras.layers.MaxPool2D((2,2)),\n",
        "              tf.keras.layers.Dropout(0.2),\n",
        "              tf.keras.layers.Conv2D(32, (3,3), activation = \"relu\"),\n",
        "              tf.keras.layers.MaxPool2D((2,2)),\n",
        "              tf.keras.layers.Dropout(0.2),\n",
        "              tf.keras.layers.Flatten(),\n",
        "              tf.keras.layers.Dense(256, kernel_regularizer = regularizers.l2(1e-5), activation = \"relu\"),\n",
        "              tf.keras.layers.Dropout(0.2),\n",
        "              tf.keras.layers.Dense(128, kernel_regularizer= regularizers.l2(1e-5),activation = \"relu\"),\n",
        "              tf.keras.layers.Dropout(0.2),\n",
        "              tf.keras.layers.Dense(num_classes, activation = \"softmax\")\n",
        "  ])\n",
        "  return model\n",
        "\n",
        "model_early = get_model()\n",
        "model_early.summary()\n",
        "\n",
        "model_early.compile(optimizer= \"adam\", loss = \"categorical_crossentropy\", metrics = [\"accuracy\"])\n",
        "\n"
      ],
      "metadata": {
        "colab": {
          "base_uri": "https://localhost:8080/"
        },
        "id": "ZFcQYFxT1V7c",
        "outputId": "0a8802cf-10c6-4751-df4b-0f43daff4abb"
      },
      "execution_count": 40,
      "outputs": [
        {
          "output_type": "stream",
          "name": "stdout",
          "text": [
            "Model: \"sequential_5\"\n",
            "_________________________________________________________________\n",
            " Layer (type)                Output Shape              Param #   \n",
            "=================================================================\n",
            " conv2d_2 (Conv2D)           (None, 26, 26, 75)        750       \n",
            "                                                                 \n",
            " max_pooling2d_2 (MaxPooling  (None, 13, 13, 75)       0         \n",
            " 2D)                                                             \n",
            "                                                                 \n",
            " dropout_5 (Dropout)         (None, 13, 13, 75)        0         \n",
            "                                                                 \n",
            " conv2d_3 (Conv2D)           (None, 11, 11, 32)        21632     \n",
            "                                                                 \n",
            " max_pooling2d_3 (MaxPooling  (None, 5, 5, 32)         0         \n",
            " 2D)                                                             \n",
            "                                                                 \n",
            " dropout_6 (Dropout)         (None, 5, 5, 32)          0         \n",
            "                                                                 \n",
            " flatten_5 (Flatten)         (None, 800)               0         \n",
            "                                                                 \n",
            " dense_14 (Dense)            (None, 256)               205056    \n",
            "                                                                 \n",
            " dropout_7 (Dropout)         (None, 256)               0         \n",
            "                                                                 \n",
            " dense_15 (Dense)            (None, 128)               32896     \n",
            "                                                                 \n",
            " dropout_8 (Dropout)         (None, 128)               0         \n",
            "                                                                 \n",
            " dense_16 (Dense)            (None, 10)                1290      \n",
            "                                                                 \n",
            "=================================================================\n",
            "Total params: 261,624\n",
            "Trainable params: 261,624\n",
            "Non-trainable params: 0\n",
            "_________________________________________________________________\n"
          ]
        }
      ]
    },
    {
      "cell_type": "code",
      "execution_count": 41,
      "metadata": {
        "colab": {
          "base_uri": "https://localhost:8080/"
        },
        "id": "XgPM_UzRKHKn",
        "outputId": "f8b6bc99-f4d8-4367-8c2e-6c12bb20a80d"
      },
      "outputs": [
        {
          "output_type": "stream",
          "name": "stdout",
          "text": [
            "Epoch 1/10\n",
            "938/938 [==============================] - 4s 4ms/step - loss: 0.4524 - accuracy: 0.8319\n",
            "Epoch 2/10\n",
            "938/938 [==============================] - 4s 4ms/step - loss: 0.4476 - accuracy: 0.8329\n",
            "Epoch 3/10\n",
            "938/938 [==============================] - 4s 4ms/step - loss: 0.4478 - accuracy: 0.8334\n",
            "Epoch 4/10\n",
            "938/938 [==============================] - 4s 4ms/step - loss: 0.4466 - accuracy: 0.8320\n",
            "Epoch 5/10\n",
            "938/938 [==============================] - 4s 4ms/step - loss: 0.4420 - accuracy: 0.8356\n",
            "Epoch 6/10\n",
            "938/938 [==============================] - 4s 4ms/step - loss: 0.4459 - accuracy: 0.8339\n",
            "Epoch 7/10\n",
            "938/938 [==============================] - 4s 4ms/step - loss: 0.4430 - accuracy: 0.8355\n"
          ]
        },
        {
          "output_type": "execute_result",
          "data": {
            "text/plain": [
              "<keras.callbacks.History at 0x7ff1b4e5c590>"
            ]
          },
          "metadata": {},
          "execution_count": 41
        }
      ],
      "source": [
        "callback_early = tf.keras.callbacks.EarlyStopping(monitor='accuracy',patience=2)\n",
        "model.fit(train_images,\n",
        "         train_labels,\n",
        "         batch_size=64,\n",
        "         callbacks=[callback_early],\n",
        "         epochs=10)"
      ]
    },
    {
      "cell_type": "markdown",
      "metadata": {
        "id": "cTDeEWQpBBEC"
      },
      "source": [
        "### Creation of a functional model with Auto Tunner Keras "
      ]
    },
    {
      "cell_type": "code",
      "execution_count": 42,
      "metadata": {
        "id": "kEPum7__yr6o",
        "colab": {
          "base_uri": "https://localhost:8080/"
        },
        "outputId": "d0073278-13c7-4e76-d6b8-1cecb42b446e"
      },
      "outputs": [
        {
          "output_type": "stream",
          "name": "stdout",
          "text": [
            "\u001b[?25l\r\u001b[K     |██▌                             | 10 kB 23.4 MB/s eta 0:00:01\r\u001b[K     |█████                           | 20 kB 20.3 MB/s eta 0:00:01\r\u001b[K     |███████▍                        | 30 kB 10.5 MB/s eta 0:00:01\r\u001b[K     |█████████▉                      | 40 kB 4.3 MB/s eta 0:00:01\r\u001b[K     |████████████▎                   | 51 kB 4.2 MB/s eta 0:00:01\r\u001b[K     |██████████████▊                 | 61 kB 4.9 MB/s eta 0:00:01\r\u001b[K     |█████████████████▏              | 71 kB 5.4 MB/s eta 0:00:01\r\u001b[K     |███████████████████▋            | 81 kB 5.3 MB/s eta 0:00:01\r\u001b[K     |██████████████████████          | 92 kB 5.9 MB/s eta 0:00:01\r\u001b[K     |████████████████████████▌       | 102 kB 5.0 MB/s eta 0:00:01\r\u001b[K     |███████████████████████████     | 112 kB 5.0 MB/s eta 0:00:01\r\u001b[K     |█████████████████████████████▍  | 122 kB 5.0 MB/s eta 0:00:01\r\u001b[K     |███████████████████████████████▉| 133 kB 5.0 MB/s eta 0:00:01\r\u001b[K     |████████████████████████████████| 133 kB 5.0 MB/s \n",
            "\u001b[?25h"
          ]
        }
      ],
      "source": [
        "!pip install -q -U keras-tuner\n",
        "import keras_tuner as kt\n",
        "from tensorflow import keras"
      ]
    },
    {
      "cell_type": "code",
      "execution_count": 43,
      "metadata": {
        "id": "g7DY25lbvDVP"
      },
      "outputs": [],
      "source": [
        "def constructor_modelos(hp):\n",
        "  model = tf.keras.models.Sequential()\n",
        "  model.add(tf.keras.layers.Conv2D(75, (3,3), activation= \"relu\", input_shape = (28, 28, 1)))\n",
        "  model.add(tf.keras.layers.MaxPool2D((2,2)))\n",
        "  model.add(tf.keras.layers.Flatten())\n",
        "\n",
        "  hp_units = hp.Int(\"units\", min_value = 32, max_value = 512, step = 32)\n",
        "  model.add(tf.keras.layers.Dense(units=hp_units,activation = \"relu\", kernel_regularizer= regularizers.l2(1e-5)))\n",
        "  model.add(tf.keras.layers.Dropout(0.2))\n",
        "  model.add(tf.keras.layers.Dense(128,activation = \"relu\", kernel_regularizer= regularizers.l2(1e-5)))\n",
        "  model.add(tf.keras.layers.Dropout(0.2))\n",
        "  model.add(tf.keras.layers.Dense(num_classes, activation = \"softmax\"))\n",
        "\n",
        "  hp_learning_rate = hp.Choice('learning_rate', values = [1e-2, 1e-3, 1e-4])\n",
        "\n",
        "  model.compile(optimizer = keras.optimizers.Adam(learning_rate=hp_learning_rate),loss = \"categorical_crossentropy\", metrics = [\"accuracy\"])\n",
        "\n",
        "  return model\n"
      ]
    },
    {
      "cell_type": "code",
      "execution_count": 44,
      "metadata": {
        "id": "a0dTH-RfvDqF"
      },
      "outputs": [],
      "source": [
        "tuner = kt.Hyperband(\n",
        "    constructor_modelos,\n",
        "    objective = \"accuracy\",\n",
        "    max_epochs = 20,\n",
        "    factor = 3,\n",
        "    directory = \"models/\",\n",
        "    project_name = \"Own-tunner\"\n",
        ")"
      ]
    },
    {
      "cell_type": "code",
      "execution_count": 45,
      "metadata": {
        "colab": {
          "base_uri": "https://localhost:8080/"
        },
        "id": "m679o6NmvC1a",
        "outputId": "d6fa0ffc-c888-4a8b-df06-42490b01bda2"
      },
      "outputs": [
        {
          "output_type": "stream",
          "name": "stdout",
          "text": [
            "Trial 30 Complete [00h 02m 22s]\n",
            "accuracy: 0.8350499868392944\n",
            "\n",
            "Best accuracy So Far: 0.8821166753768921\n",
            "Total elapsed time: 00h 35m 01s\n",
            "INFO:tensorflow:Oracle triggered exit\n"
          ]
        }
      ],
      "source": [
        "tuner.search(train_images, train_labels, epochs =20)\n",
        "\n",
        "best_hps = tuner.get_best_hyperparameters(num_trials =1)[0]"
      ]
    },
    {
      "cell_type": "code",
      "execution_count": 46,
      "metadata": {
        "id": "uiwJvTLxvCsJ",
        "colab": {
          "base_uri": "https://localhost:8080/"
        },
        "outputId": "a10967c4-8cbd-4776-ace8-b45dcddb3bf1"
      },
      "outputs": [
        {
          "output_type": "stream",
          "name": "stdout",
          "text": [
            "352\n"
          ]
        }
      ],
      "source": [
        "print(best_hps.get(\"units\"))"
      ]
    },
    {
      "cell_type": "code",
      "source": [
        "print(best_hps.get(\"learning_rate\"))"
      ],
      "metadata": {
        "id": "RNjwDlWfnlDM",
        "colab": {
          "base_uri": "https://localhost:8080/"
        },
        "outputId": "85f36a92-14c5-40ef-99d5-28c1bfee904f"
      },
      "execution_count": 47,
      "outputs": [
        {
          "output_type": "stream",
          "name": "stdout",
          "text": [
            "0.001\n"
          ]
        }
      ]
    },
    {
      "cell_type": "code",
      "source": [
        "hypermodel = tuner.hypermodel.build(best_hps)\n",
        "\n",
        "history_hypermodel = hypermodel.fit(\n",
        "    train_images,\n",
        "    train_labels,\n",
        "    epochs = 20,\n",
        "    callbacks = [callback_early]\n",
        "    \n",
        ")"
      ],
      "metadata": {
        "id": "1ksBf66JnnbS",
        "colab": {
          "base_uri": "https://localhost:8080/"
        },
        "outputId": "75e48154-02ea-4dd5-e666-8bbe402c053e"
      },
      "execution_count": 48,
      "outputs": [
        {
          "metadata": {
            "tags": null
          },
          "name": "stdout",
          "output_type": "stream",
          "text": [
            "Epoch 1/20\n",
            "1875/1875 [==============================] - 9s 5ms/step - loss: 1.0128 - accuracy: 0.6122\n",
            "Epoch 2/20\n",
            "1875/1875 [==============================] - 8s 5ms/step - loss: 0.6283 - accuracy: 0.7661\n",
            "Epoch 3/20\n",
            "1875/1875 [==============================] - 8s 4ms/step - loss: 0.5506 - accuracy: 0.7982\n",
            "Epoch 4/20\n",
            "1875/1875 [==============================] - 8s 5ms/step - loss: 0.5014 - accuracy: 0.8218\n",
            "Epoch 5/20\n",
            "1875/1875 [==============================] - 9s 5ms/step - loss: 0.4702 - accuracy: 0.8350\n",
            "Epoch 6/20\n",
            "1875/1875 [==============================] - 8s 4ms/step - loss: 0.4512 - accuracy: 0.8416\n",
            "Epoch 7/20\n",
            "1875/1875 [==============================] - 8s 4ms/step - loss: 0.4366 - accuracy: 0.8464\n",
            "Epoch 8/20\n",
            "1875/1875 [==============================] - 8s 5ms/step - loss: 0.4235 - accuracy: 0.8516\n",
            "Epoch 9/20\n",
            "1875/1875 [==============================] - 8s 4ms/step - loss: 0.4136 - accuracy: 0.8565\n",
            "Epoch 10/20\n",
            "1875/1875 [==============================] - 8s 4ms/step - loss: 0.4055 - accuracy: 0.8598\n",
            "Epoch 11/20\n",
            "1875/1875 [==============================] - 8s 4ms/step - loss: 0.4000 - accuracy: 0.8605\n",
            "Epoch 12/20\n",
            "1875/1875 [==============================] - 8s 5ms/step - loss: 0.3938 - accuracy: 0.8632\n",
            "Epoch 13/20\n",
            "1875/1875 [==============================] - 8s 4ms/step - loss: 0.3882 - accuracy: 0.8650\n",
            "Epoch 14/20\n",
            "1875/1875 [==============================] - 8s 4ms/step - loss: 0.3836 - accuracy: 0.8668\n",
            "Epoch 15/20\n",
            "1875/1875 [==============================] - 8s 4ms/step - loss: 0.3785 - accuracy: 0.8692\n",
            "Epoch 16/20\n",
            "1875/1875 [==============================] - 8s 4ms/step - loss: 0.3771 - accuracy: 0.8698\n",
            "Epoch 17/20\n",
            "1875/1875 [==============================] - 8s 4ms/step - loss: 0.3702 - accuracy: 0.8723\n",
            "Epoch 18/20\n",
            "1875/1875 [==============================] - 8s 4ms/step - loss: 0.3711 - accuracy: 0.8717\n",
            "Epoch 19/20\n",
            "1875/1875 [==============================] - 8s 4ms/step - loss: 0.3660 - accuracy: 0.8751\n",
            "Epoch 20/20\n",
            "1875/1875 [==============================] - 9s 5ms/step - loss: 0.3634 - accuracy: 0.8737\n"
          ]
        }
      ]
    },
    {
      "cell_type": "markdown",
      "source": [
        "### Save model architecture only"
      ],
      "metadata": {
        "id": "Oq-MIk-YoSjP"
      }
    },
    {
      "cell_type": "code",
      "source": [
        "config_dict = hypermodel.get_config()"
      ],
      "metadata": {
        "id": "b8vRb8X9oT7B"
      },
      "execution_count": 49,
      "outputs": []
    },
    {
      "cell_type": "code",
      "source": [
        "print(config_dict)"
      ],
      "metadata": {
        "id": "iMGx56rCotFL",
        "colab": {
          "base_uri": "https://localhost:8080/"
        },
        "outputId": "9233cbeb-526f-4f0f-a621-6d367acb106c"
      },
      "execution_count": 50,
      "outputs": [
        {
          "output_type": "stream",
          "name": "stdout",
          "text": [
            "{'name': 'sequential_1', 'layers': [{'class_name': 'InputLayer', 'config': {'batch_input_shape': (None, 28, 28, 1), 'dtype': 'float32', 'sparse': False, 'ragged': False, 'name': 'conv2d_1_input'}}, {'class_name': 'Conv2D', 'config': {'name': 'conv2d_1', 'trainable': True, 'batch_input_shape': (None, 28, 28, 1), 'dtype': 'float32', 'filters': 75, 'kernel_size': (3, 3), 'strides': (1, 1), 'padding': 'valid', 'data_format': 'channels_last', 'dilation_rate': (1, 1), 'groups': 1, 'activation': 'relu', 'use_bias': True, 'kernel_initializer': {'class_name': 'GlorotUniform', 'config': {'seed': None}}, 'bias_initializer': {'class_name': 'Zeros', 'config': {}}, 'kernel_regularizer': None, 'bias_regularizer': None, 'activity_regularizer': None, 'kernel_constraint': None, 'bias_constraint': None}}, {'class_name': 'MaxPooling2D', 'config': {'name': 'max_pooling2d_1', 'trainable': True, 'dtype': 'float32', 'pool_size': (2, 2), 'padding': 'valid', 'strides': (2, 2), 'data_format': 'channels_last'}}, {'class_name': 'Flatten', 'config': {'name': 'flatten_1', 'trainable': True, 'dtype': 'float32', 'data_format': 'channels_last'}}, {'class_name': 'Dense', 'config': {'name': 'dense_3', 'trainable': True, 'dtype': 'float32', 'units': 352, 'activation': 'relu', 'use_bias': True, 'kernel_initializer': {'class_name': 'GlorotUniform', 'config': {'seed': None}}, 'bias_initializer': {'class_name': 'Zeros', 'config': {}}, 'kernel_regularizer': {'class_name': 'L2', 'config': {'l2': 9.999999747378752e-06}}, 'bias_regularizer': None, 'activity_regularizer': None, 'kernel_constraint': None, 'bias_constraint': None}}, {'class_name': 'Dropout', 'config': {'name': 'dropout_2', 'trainable': True, 'dtype': 'float32', 'rate': 0.2, 'noise_shape': None, 'seed': None}}, {'class_name': 'Dense', 'config': {'name': 'dense_4', 'trainable': True, 'dtype': 'float32', 'units': 128, 'activation': 'relu', 'use_bias': True, 'kernel_initializer': {'class_name': 'GlorotUniform', 'config': {'seed': None}}, 'bias_initializer': {'class_name': 'Zeros', 'config': {}}, 'kernel_regularizer': {'class_name': 'L2', 'config': {'l2': 9.999999747378752e-06}}, 'bias_regularizer': None, 'activity_regularizer': None, 'kernel_constraint': None, 'bias_constraint': None}}, {'class_name': 'Dropout', 'config': {'name': 'dropout_3', 'trainable': True, 'dtype': 'float32', 'rate': 0.2, 'noise_shape': None, 'seed': None}}, {'class_name': 'Dense', 'config': {'name': 'dense_5', 'trainable': True, 'dtype': 'float32', 'units': 10, 'activation': 'softmax', 'use_bias': True, 'kernel_initializer': {'class_name': 'GlorotUniform', 'config': {'seed': None}}, 'bias_initializer': {'class_name': 'Zeros', 'config': {}}, 'kernel_regularizer': None, 'bias_regularizer': None, 'activity_regularizer': None, 'kernel_constraint': None, 'bias_constraint': None}}]}\n"
          ]
        }
      ]
    },
    {
      "cell_type": "markdown",
      "source": [
        "### Creating a new model from the architecture"
      ],
      "metadata": {
        "id": "-Vq_TOr0obUL"
      }
    },
    {
      "cell_type": "code",
      "source": [
        "model_same_config = tf.keras.Sequential.from_config(config_dict)"
      ],
      "metadata": {
        "id": "x8FvcJWConl9"
      },
      "execution_count": 51,
      "outputs": []
    },
    {
      "cell_type": "code",
      "source": [
        "model_same_config.summary()"
      ],
      "metadata": {
        "id": "5iODP6kipLTV",
        "colab": {
          "base_uri": "https://localhost:8080/"
        },
        "outputId": "d88f2277-0ba3-4603-8f22-8ba85f395e28"
      },
      "execution_count": 52,
      "outputs": [
        {
          "output_type": "stream",
          "name": "stdout",
          "text": [
            "Model: \"sequential_1\"\n",
            "_________________________________________________________________\n",
            " Layer (type)                Output Shape              Param #   \n",
            "=================================================================\n",
            " conv2d_1 (Conv2D)           (None, 26, 26, 75)        750       \n",
            "                                                                 \n",
            " max_pooling2d_1 (MaxPooling  (None, 13, 13, 75)       0         \n",
            " 2D)                                                             \n",
            "                                                                 \n",
            " flatten_1 (Flatten)         (None, 12675)             0         \n",
            "                                                                 \n",
            " dense_3 (Dense)             (None, 352)               4461952   \n",
            "                                                                 \n",
            " dropout_2 (Dropout)         (None, 352)               0         \n",
            "                                                                 \n",
            " dense_4 (Dense)             (None, 128)               45184     \n",
            "                                                                 \n",
            " dropout_3 (Dropout)         (None, 128)               0         \n",
            "                                                                 \n",
            " dense_5 (Dense)             (None, 10)                1290      \n",
            "                                                                 \n",
            "=================================================================\n",
            "Total params: 4,509,176\n",
            "Trainable params: 4,509,176\n",
            "Non-trainable params: 0\n",
            "_________________________________________________________________\n"
          ]
        }
      ]
    },
    {
      "cell_type": "markdown",
      "source": [
        "### Save and load only the weights"
      ],
      "metadata": {
        "id": "-mHZ4XampwD-"
      }
    },
    {
      "cell_type": "markdown",
      "source": [
        "#### Train the model with the checkpoints"
      ],
      "metadata": {
        "id": "dl6kUO2NqAfL"
      }
    },
    {
      "cell_type": "code",
      "source": [
        "from tensorflow.keras.callbacks import ModelCheckpoint"
      ],
      "metadata": {
        "id": "LGqPSOy6pOoX"
      },
      "execution_count": 53,
      "outputs": []
    },
    {
      "cell_type": "code",
      "source": [
        "model_weight = get_model()\n",
        "model_weight.summary()"
      ],
      "metadata": {
        "id": "a-g2ekM8qFmx",
        "colab": {
          "base_uri": "https://localhost:8080/"
        },
        "outputId": "73da613e-968a-4172-e436-ff62e5f98252"
      },
      "execution_count": 54,
      "outputs": [
        {
          "output_type": "stream",
          "name": "stdout",
          "text": [
            "Model: \"sequential_2\"\n",
            "_________________________________________________________________\n",
            " Layer (type)                Output Shape              Param #   \n",
            "=================================================================\n",
            " conv2d_2 (Conv2D)           (None, 26, 26, 75)        750       \n",
            "                                                                 \n",
            " max_pooling2d_2 (MaxPooling  (None, 13, 13, 75)       0         \n",
            " 2D)                                                             \n",
            "                                                                 \n",
            " dropout_4 (Dropout)         (None, 13, 13, 75)        0         \n",
            "                                                                 \n",
            " conv2d_3 (Conv2D)           (None, 11, 11, 32)        21632     \n",
            "                                                                 \n",
            " max_pooling2d_3 (MaxPooling  (None, 5, 5, 32)         0         \n",
            " 2D)                                                             \n",
            "                                                                 \n",
            " dropout_5 (Dropout)         (None, 5, 5, 32)          0         \n",
            "                                                                 \n",
            " flatten_2 (Flatten)         (None, 800)               0         \n",
            "                                                                 \n",
            " dense_6 (Dense)             (None, 256)               205056    \n",
            "                                                                 \n",
            " dropout_6 (Dropout)         (None, 256)               0         \n",
            "                                                                 \n",
            " dense_7 (Dense)             (None, 128)               32896     \n",
            "                                                                 \n",
            " dropout_7 (Dropout)         (None, 128)               0         \n",
            "                                                                 \n",
            " dense_8 (Dense)             (None, 10)                1290      \n",
            "                                                                 \n",
            "=================================================================\n",
            "Total params: 261,624\n",
            "Trainable params: 261,624\n",
            "Non-trainable params: 0\n",
            "_________________________________________________________________\n"
          ]
        }
      ]
    },
    {
      "cell_type": "code",
      "source": [
        "model_weight.compile(optimizer = \"adam\", loss = \"categorical_crossentropy\", metrics = [\"accuracy\"])"
      ],
      "metadata": {
        "id": "QAbPbTiAqTZ5"
      },
      "execution_count": 55,
      "outputs": []
    },
    {
      "cell_type": "markdown",
      "source": [
        "#### Creating checkpoints of our models with TensorFlow"
      ],
      "metadata": {
        "id": "ZSNJWgUqrR2x"
      }
    },
    {
      "cell_type": "code",
      "source": [
        "checkpoint_path = \"model_checkpoints/checkpoint\"\n",
        "checkpoint_weighs= ModelCheckpoint(\n",
        "    filepath = checkpoint_path,\n",
        "    frecuency = \"epoch\",\n",
        "    save_weights_only = True,\n",
        "    verbose = 1\n",
        "\n",
        ")\n",
        "\n"
      ],
      "metadata": {
        "id": "fbeLcOKVq7-g"
      },
      "execution_count": 56,
      "outputs": []
    },
    {
      "cell_type": "markdown",
      "source": [
        "#### The model is trained, and the weights of the model are stored in each step."
      ],
      "metadata": {
        "id": "r-7_Dwy9rxfO"
      }
    },
    {
      "cell_type": "code",
      "source": [
        "history_weight = model_weight.fit(\n",
        "    train_images,\n",
        "    train_labels,\n",
        "    batch_size=64,\n",
        "    callbacks = [checkpoint_weighs],\n",
        "    epochs = 20)\n",
        "\n"
      ],
      "metadata": {
        "id": "rkAxvJ29ra2C",
        "colab": {
          "base_uri": "https://localhost:8080/"
        },
        "outputId": "735c05e8-73fe-45ca-a1c2-8ad3e1c68866"
      },
      "execution_count": 57,
      "outputs": [
        {
          "output_type": "stream",
          "name": "stdout",
          "text": [
            "Epoch 1/20\n",
            "938/938 [==============================] - ETA: 0s - loss: 1.0978 - accuracy: 0.5816\n",
            "Epoch 1: saving model to model_checkpoints/checkpoint\n",
            "938/938 [==============================] - 5s 5ms/step - loss: 1.0978 - accuracy: 0.5816\n",
            "Epoch 2/20\n",
            "934/938 [============================>.] - ETA: 0s - loss: 0.7098 - accuracy: 0.7304\n",
            "Epoch 2: saving model to model_checkpoints/checkpoint\n",
            "938/938 [==============================] - 4s 5ms/step - loss: 0.7101 - accuracy: 0.7303\n",
            "Epoch 3/20\n",
            "933/938 [============================>.] - ETA: 0s - loss: 0.6344 - accuracy: 0.7585\n",
            "Epoch 3: saving model to model_checkpoints/checkpoint\n",
            "938/938 [==============================] - 4s 5ms/step - loss: 0.6342 - accuracy: 0.7586\n",
            "Epoch 4/20\n",
            "933/938 [============================>.] - ETA: 0s - loss: 0.5800 - accuracy: 0.7815\n",
            "Epoch 4: saving model to model_checkpoints/checkpoint\n",
            "938/938 [==============================] - 5s 5ms/step - loss: 0.5801 - accuracy: 0.7815\n",
            "Epoch 5/20\n",
            "936/938 [============================>.] - ETA: 0s - loss: 0.5474 - accuracy: 0.7944\n",
            "Epoch 5: saving model to model_checkpoints/checkpoint\n",
            "938/938 [==============================] - 4s 5ms/step - loss: 0.5473 - accuracy: 0.7945\n",
            "Epoch 6/20\n",
            "931/938 [============================>.] - ETA: 0s - loss: 0.5199 - accuracy: 0.8068\n",
            "Epoch 6: saving model to model_checkpoints/checkpoint\n",
            "938/938 [==============================] - 5s 5ms/step - loss: 0.5192 - accuracy: 0.8070\n",
            "Epoch 7/20\n",
            "932/938 [============================>.] - ETA: 0s - loss: 0.4961 - accuracy: 0.8160\n",
            "Epoch 7: saving model to model_checkpoints/checkpoint\n",
            "938/938 [==============================] - 4s 5ms/step - loss: 0.4963 - accuracy: 0.8159\n",
            "Epoch 8/20\n",
            "930/938 [============================>.] - ETA: 0s - loss: 0.4802 - accuracy: 0.8237\n",
            "Epoch 8: saving model to model_checkpoints/checkpoint\n",
            "938/938 [==============================] - 4s 5ms/step - loss: 0.4803 - accuracy: 0.8237\n",
            "Epoch 9/20\n",
            "932/938 [============================>.] - ETA: 0s - loss: 0.4700 - accuracy: 0.8267\n",
            "Epoch 9: saving model to model_checkpoints/checkpoint\n",
            "938/938 [==============================] - 5s 5ms/step - loss: 0.4698 - accuracy: 0.8270\n",
            "Epoch 10/20\n",
            "930/938 [============================>.] - ETA: 0s - loss: 0.4559 - accuracy: 0.8340\n",
            "Epoch 10: saving model to model_checkpoints/checkpoint\n",
            "938/938 [==============================] - 5s 5ms/step - loss: 0.4560 - accuracy: 0.8339\n",
            "Epoch 11/20\n",
            "936/938 [============================>.] - ETA: 0s - loss: 0.4471 - accuracy: 0.8385\n",
            "Epoch 11: saving model to model_checkpoints/checkpoint\n",
            "938/938 [==============================] - 5s 5ms/step - loss: 0.4470 - accuracy: 0.8385\n",
            "Epoch 12/20\n",
            "928/938 [============================>.] - ETA: 0s - loss: 0.4355 - accuracy: 0.8412\n",
            "Epoch 12: saving model to model_checkpoints/checkpoint\n",
            "938/938 [==============================] - 5s 5ms/step - loss: 0.4355 - accuracy: 0.8411\n",
            "Epoch 13/20\n",
            "929/938 [============================>.] - ETA: 0s - loss: 0.4306 - accuracy: 0.8431\n",
            "Epoch 13: saving model to model_checkpoints/checkpoint\n",
            "938/938 [==============================] - 5s 5ms/step - loss: 0.4305 - accuracy: 0.8431\n",
            "Epoch 14/20\n",
            "932/938 [============================>.] - ETA: 0s - loss: 0.4249 - accuracy: 0.8454\n",
            "Epoch 14: saving model to model_checkpoints/checkpoint\n",
            "938/938 [==============================] - 5s 5ms/step - loss: 0.4248 - accuracy: 0.8454\n",
            "Epoch 15/20\n",
            "934/938 [============================>.] - ETA: 0s - loss: 0.4192 - accuracy: 0.8461\n",
            "Epoch 15: saving model to model_checkpoints/checkpoint\n",
            "938/938 [==============================] - 5s 5ms/step - loss: 0.4190 - accuracy: 0.8461\n",
            "Epoch 16/20\n",
            "937/938 [============================>.] - ETA: 0s - loss: 0.4112 - accuracy: 0.8512\n",
            "Epoch 16: saving model to model_checkpoints/checkpoint\n",
            "938/938 [==============================] - 5s 5ms/step - loss: 0.4111 - accuracy: 0.8512\n",
            "Epoch 17/20\n",
            "931/938 [============================>.] - ETA: 0s - loss: 0.4073 - accuracy: 0.8529\n",
            "Epoch 17: saving model to model_checkpoints/checkpoint\n",
            "938/938 [==============================] - 5s 5ms/step - loss: 0.4072 - accuracy: 0.8529\n",
            "Epoch 18/20\n",
            "938/938 [==============================] - ETA: 0s - loss: 0.4001 - accuracy: 0.8551\n",
            "Epoch 18: saving model to model_checkpoints/checkpoint\n",
            "938/938 [==============================] - 5s 5ms/step - loss: 0.4001 - accuracy: 0.8551\n",
            "Epoch 19/20\n",
            "931/938 [============================>.] - ETA: 0s - loss: 0.3988 - accuracy: 0.8557\n",
            "Epoch 19: saving model to model_checkpoints/checkpoint\n",
            "938/938 [==============================] - 5s 5ms/step - loss: 0.3990 - accuracy: 0.8555\n",
            "Epoch 20/20\n",
            "933/938 [============================>.] - ETA: 0s - loss: 0.3910 - accuracy: 0.8593\n",
            "Epoch 20: saving model to model_checkpoints/checkpoint\n",
            "938/938 [==============================] - 5s 5ms/step - loss: 0.3910 - accuracy: 0.8593\n"
          ]
        }
      ]
    },
    {
      "cell_type": "code",
      "source": [
        ""
      ],
      "metadata": {
        "id": "neMiOHAGr2ng"
      },
      "execution_count": null,
      "outputs": []
    },
    {
      "cell_type": "markdown",
      "source": [
        "### Weights are saved manually"
      ],
      "metadata": {
        "id": "km1Hl2BARAAw"
      }
    },
    {
      "cell_type": "code",
      "source": [
        "model_weight.save_weights(\"model_manul/my_model\")"
      ],
      "metadata": {
        "id": "w7uqr598RIys"
      },
      "execution_count": 58,
      "outputs": []
    },
    {
      "cell_type": "markdown",
      "source": [
        "### The architecture is created and the weights are loaded"
      ],
      "metadata": {
        "id": "ghSM9zLARaAf"
      }
    },
    {
      "cell_type": "code",
      "source": [
        "model_weights2 = get_model()\n",
        "model_weights2.compile(optimizer = \"adam\", loss = \"categorical_crossentropy\", metrics = [\"accuracy\"])"
      ],
      "metadata": {
        "id": "syyVF2AERMiW"
      },
      "execution_count": 59,
      "outputs": []
    },
    {
      "cell_type": "code",
      "source": [
        "model_weights2.load_weights(checkpoint_path)\n"
      ],
      "metadata": {
        "colab": {
          "base_uri": "https://localhost:8080/"
        },
        "id": "eEzYpIVbRlAd",
        "outputId": "ad3a451a-1fc1-4f60-c314-7d145706215a"
      },
      "execution_count": 60,
      "outputs": [
        {
          "output_type": "execute_result",
          "data": {
            "text/plain": [
              "<tensorflow.python.training.tracking.util.CheckpointLoadStatus at 0x7ff1b52ae9d0>"
            ]
          },
          "metadata": {},
          "execution_count": 60
        }
      ]
    },
    {
      "cell_type": "code",
      "source": [
        ""
      ],
      "metadata": {
        "id": "xp3tWw9HRpAC"
      },
      "execution_count": null,
      "outputs": []
    },
    {
      "cell_type": "markdown",
      "source": [
        "### Infrastructure and weights are stored"
      ],
      "metadata": {
        "id": "imZXoNG_V2ug"
      }
    },
    {
      "cell_type": "code",
      "source": [
        "model_complete = get_model()\n",
        "model_complete.compile(optimizer = \"adam\", loss = \"categorical_crossentropy\", metrics = [\"accuracy\"])\n",
        "\n",
        "history_complete = model_complete.fit(\n",
        "    train_images,\n",
        "    train_labels,\n",
        "    epochs = 20,\n",
        "    callbacks = [checkpoint_weighs],\n",
        "    \n",
        ")"
      ],
      "metadata": {
        "colab": {
          "base_uri": "https://localhost:8080/"
        },
        "id": "OihSrt6bVOw8",
        "outputId": "a65775c3-372a-4a5b-d9c2-00fc49f34ffd"
      },
      "execution_count": 66,
      "outputs": [
        {
          "output_type": "stream",
          "name": "stdout",
          "text": [
            "Epoch 1/20\n",
            "1869/1875 [============================>.] - ETA: 0s - loss: 1.0415 - accuracy: 0.6008\n",
            "Epoch 1: saving model to model_checkpoints/checkpoint\n",
            "1875/1875 [==============================] - 8s 4ms/step - loss: 1.0402 - accuracy: 0.6013\n",
            "Epoch 2/20\n",
            "1874/1875 [============================>.] - ETA: 0s - loss: 0.6771 - accuracy: 0.7413\n",
            "Epoch 2: saving model to model_checkpoints/checkpoint\n",
            "1875/1875 [==============================] - 8s 4ms/step - loss: 0.6770 - accuracy: 0.7414\n",
            "Epoch 3/20\n",
            "1868/1875 [============================>.] - ETA: 0s - loss: 0.5963 - accuracy: 0.7762\n",
            "Epoch 3: saving model to model_checkpoints/checkpoint\n",
            "1875/1875 [==============================] - 8s 4ms/step - loss: 0.5964 - accuracy: 0.7761\n",
            "Epoch 4/20\n",
            "1864/1875 [============================>.] - ETA: 0s - loss: 0.5495 - accuracy: 0.7963\n",
            "Epoch 4: saving model to model_checkpoints/checkpoint\n",
            "1875/1875 [==============================] - 7s 4ms/step - loss: 0.5500 - accuracy: 0.7962\n",
            "Epoch 5/20\n",
            "1875/1875 [==============================] - ETA: 0s - loss: 0.5240 - accuracy: 0.8057\n",
            "Epoch 5: saving model to model_checkpoints/checkpoint\n",
            "1875/1875 [==============================] - 8s 4ms/step - loss: 0.5240 - accuracy: 0.8057\n",
            "Epoch 6/20\n",
            "1874/1875 [============================>.] - ETA: 0s - loss: 0.5071 - accuracy: 0.8134\n",
            "Epoch 6: saving model to model_checkpoints/checkpoint\n",
            "1875/1875 [==============================] - 7s 4ms/step - loss: 0.5072 - accuracy: 0.8133\n",
            "Epoch 7/20\n",
            "1873/1875 [============================>.] - ETA: 0s - loss: 0.4907 - accuracy: 0.8195\n",
            "Epoch 7: saving model to model_checkpoints/checkpoint\n",
            "1875/1875 [==============================] - 7s 4ms/step - loss: 0.4906 - accuracy: 0.8195\n",
            "Epoch 8/20\n",
            "1867/1875 [============================>.] - ETA: 0s - loss: 0.4804 - accuracy: 0.8226\n",
            "Epoch 8: saving model to model_checkpoints/checkpoint\n",
            "1875/1875 [==============================] - 7s 4ms/step - loss: 0.4801 - accuracy: 0.8227\n",
            "Epoch 9/20\n",
            "1865/1875 [============================>.] - ETA: 0s - loss: 0.4682 - accuracy: 0.8285\n",
            "Epoch 9: saving model to model_checkpoints/checkpoint\n",
            "1875/1875 [==============================] - 7s 4ms/step - loss: 0.4681 - accuracy: 0.8285\n",
            "Epoch 10/20\n",
            "1873/1875 [============================>.] - ETA: 0s - loss: 0.4607 - accuracy: 0.8309\n",
            "Epoch 10: saving model to model_checkpoints/checkpoint\n",
            "1875/1875 [==============================] - 7s 4ms/step - loss: 0.4607 - accuracy: 0.8309\n",
            "Epoch 11/20\n",
            "1862/1875 [============================>.] - ETA: 0s - loss: 0.4495 - accuracy: 0.8374\n",
            "Epoch 11: saving model to model_checkpoints/checkpoint\n",
            "1875/1875 [==============================] - 7s 4ms/step - loss: 0.4492 - accuracy: 0.8375\n",
            "Epoch 12/20\n",
            "1875/1875 [==============================] - ETA: 0s - loss: 0.4429 - accuracy: 0.8391\n",
            "Epoch 12: saving model to model_checkpoints/checkpoint\n",
            "1875/1875 [==============================] - 7s 4ms/step - loss: 0.4429 - accuracy: 0.8391\n",
            "Epoch 13/20\n",
            "1865/1875 [============================>.] - ETA: 0s - loss: 0.4402 - accuracy: 0.8396\n",
            "Epoch 13: saving model to model_checkpoints/checkpoint\n",
            "1875/1875 [==============================] - 7s 4ms/step - loss: 0.4400 - accuracy: 0.8397\n",
            "Epoch 14/20\n",
            "1868/1875 [============================>.] - ETA: 0s - loss: 0.4345 - accuracy: 0.8419\n",
            "Epoch 14: saving model to model_checkpoints/checkpoint\n",
            "1875/1875 [==============================] - 7s 4ms/step - loss: 0.4346 - accuracy: 0.8418\n",
            "Epoch 15/20\n",
            "1868/1875 [============================>.] - ETA: 0s - loss: 0.4288 - accuracy: 0.8435\n",
            "Epoch 15: saving model to model_checkpoints/checkpoint\n",
            "1875/1875 [==============================] - 7s 4ms/step - loss: 0.4287 - accuracy: 0.8436\n",
            "Epoch 16/20\n",
            "1865/1875 [============================>.] - ETA: 0s - loss: 0.4263 - accuracy: 0.8443\n",
            "Epoch 16: saving model to model_checkpoints/checkpoint\n",
            "1875/1875 [==============================] - 7s 4ms/step - loss: 0.4265 - accuracy: 0.8442\n",
            "Epoch 17/20\n",
            "1867/1875 [============================>.] - ETA: 0s - loss: 0.4247 - accuracy: 0.8464\n",
            "Epoch 17: saving model to model_checkpoints/checkpoint\n",
            "1875/1875 [==============================] - 8s 4ms/step - loss: 0.4246 - accuracy: 0.8464\n",
            "Epoch 18/20\n",
            "1864/1875 [============================>.] - ETA: 0s - loss: 0.4187 - accuracy: 0.8494\n",
            "Epoch 18: saving model to model_checkpoints/checkpoint\n",
            "1875/1875 [==============================] - 8s 4ms/step - loss: 0.4186 - accuracy: 0.8495\n",
            "Epoch 19/20\n",
            "1873/1875 [============================>.] - ETA: 0s - loss: 0.4134 - accuracy: 0.8497\n",
            "Epoch 19: saving model to model_checkpoints/checkpoint\n",
            "1875/1875 [==============================] - 8s 4ms/step - loss: 0.4132 - accuracy: 0.8498\n",
            "Epoch 20/20\n",
            "1870/1875 [============================>.] - ETA: 0s - loss: 0.4135 - accuracy: 0.8526\n",
            "Epoch 20: saving model to model_checkpoints/checkpoint\n",
            "1875/1875 [==============================] - 7s 4ms/step - loss: 0.4136 - accuracy: 0.8525\n"
          ]
        }
      ]
    },
    {
      "cell_type": "code",
      "source": [
        "model_complete.save(\"saved_model_complete/mymodel\")"
      ],
      "metadata": {
        "colab": {
          "base_uri": "https://localhost:8080/"
        },
        "id": "ykpLnhBHVb5l",
        "outputId": "d24832bd-395e-40c9-86e1-9b03e56c057d"
      },
      "execution_count": 67,
      "outputs": [
        {
          "output_type": "stream",
          "name": "stdout",
          "text": [
            "INFO:tensorflow:Assets written to: saved_model_complete/mymodel/assets\n"
          ]
        }
      ]
    },
    {
      "cell_type": "code",
      "source": [
        "model_complete3 = tf.keras.models.load_model(\"saved_model_complete/mymodel\")"
      ],
      "metadata": {
        "id": "qcjMeQbpVfBg"
      },
      "execution_count": 68,
      "outputs": []
    },
    {
      "cell_type": "markdown",
      "source": [
        "### Using the .h5 format to save models"
      ],
      "metadata": {
        "id": "9CoMmrLXWVWM"
      }
    },
    {
      "cell_type": "code",
      "source": [
        "!pip install pyyaml h5py"
      ],
      "metadata": {
        "colab": {
          "base_uri": "https://localhost:8080/"
        },
        "id": "5MYJnkVWWNMJ",
        "outputId": "c6c28cb4-1229-4547-8837-063f283def46"
      },
      "execution_count": 69,
      "outputs": [
        {
          "output_type": "stream",
          "name": "stdout",
          "text": [
            "Looking in indexes: https://pypi.org/simple, https://us-python.pkg.dev/colab-wheels/public/simple/\n",
            "Requirement already satisfied: pyyaml in /usr/local/lib/python3.7/dist-packages (3.13)\n",
            "Requirement already satisfied: h5py in /usr/local/lib/python3.7/dist-packages (3.1.0)\n",
            "Requirement already satisfied: cached-property in /usr/local/lib/python3.7/dist-packages (from h5py) (1.5.2)\n",
            "Requirement already satisfied: numpy>=1.14.5 in /usr/local/lib/python3.7/dist-packages (from h5py) (1.21.6)\n"
          ]
        }
      ]
    },
    {
      "cell_type": "code",
      "source": [
        "model_complete3.save(\"my_model.h5\")"
      ],
      "metadata": {
        "id": "zDADE4HUWgG-"
      },
      "execution_count": 70,
      "outputs": []
    },
    {
      "cell_type": "code",
      "source": [
        "model_complete4 = tf.keras.models.load_model(\"my_model.h5\")"
      ],
      "metadata": {
        "id": "gFCjGZevWixA"
      },
      "execution_count": 71,
      "outputs": []
    }
  ],
  "metadata": {
    "accelerator": "GPU",
    "colab": {
      "collapsed_sections": [],
      "name": "fashion_mnist.ipynb",
      "provenance": []
    },
    "gpuClass": "standard",
    "kernelspec": {
      "display_name": "Python 3",
      "name": "python3"
    },
    "language_info": {
      "name": "python"
    }
  },
  "nbformat": 4,
  "nbformat_minor": 0
}